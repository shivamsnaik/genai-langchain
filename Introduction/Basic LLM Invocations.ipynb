{
 "cells": [
  {
   "cell_type": "code",
   "execution_count": 47,
   "id": "5999dacd-1f0d-45dc-a1a9-ca0ac52b0cbd",
   "metadata": {},
   "outputs": [],
   "source": [
    "from langchain_google_genai import GoogleGenerativeAI\n",
    "from langchain_google_genai.chat_models import ChatGoogleGenerativeAI\n",
    "from constants import gemini_api_key # Import API Key"
   ]
  },
  {
   "cell_type": "code",
   "execution_count": 41,
   "id": "adec73c9-23d6-4b2d-be44-cb94b14ca7de",
   "metadata": {},
   "outputs": [
    {
     "data": {
      "text/plain": [
       "ChatGoogleGenerativeAIInput(__root__=None)"
      ]
     },
     "execution_count": 41,
     "metadata": {},
     "output_type": "execute_result"
    }
   ],
   "source": [
    "model = ChatGoogleGenerativeAI(model=\"gemini-pro\", google_api_key=gemini_api_key, temperature = 0.0)\n",
    "model.input_schema()"
   ]
  },
  {
   "cell_type": "markdown",
   "id": "749134ac-d7dd-4fbf-8f24-621ef0359da1",
   "metadata": {},
   "source": [
    "### Basic Step"
   ]
  },
  {
   "cell_type": "code",
   "execution_count": 42,
   "id": "c204c101-298a-4906-8f6b-671d966c4a4e",
   "metadata": {
    "scrolled": true
   },
   "outputs": [
    {
     "name": "stdout",
     "output_type": "stream",
     "text": [
      "content='**Factors Contributing to the AI Hype:**\\n\\n* **Advancements in technology:** Recent breakthroughs in machine learning, natural language processing, and computer vision have fueled the excitement around AI.\\n* **Increased investment:** Venture capitalists and tech giants are pouring billions of dollars into AI startups and research.\\n* **Media attention:** AI has become a popular topic in the media, generating buzz and interest.\\n* **Fear of missing out (FOMO):** Investors and companies are eager to capitalize on the potential of AI, leading to a rush to invest and develop AI-related products.\\n\\n**Potential for a Bubble:**\\n\\n* **Overvaluation:** Some AI companies may be overvalued based on their current revenue and profitability.\\n* **Lack of regulation:** The AI industry is still relatively unregulated, which could lead to excessive speculation and risk-taking.\\n* **Hype cycle:** AI is currently in the \"peak of inflated expectations\" phase of the Gartner Hype Cycle, which often precedes a decline in interest.\\n* **Competition:** The AI market is becoming increasingly competitive, with numerous startups and established companies vying for market share.\\n\\n**Factors Mitigating the Risk of a Bubble:**\\n\\n* **Real-world applications:** AI is already being used in various industries, such as healthcare, finance, and manufacturing, demonstrating its practical value.\\n* **Long-term potential:** AI is a transformative technology with the potential to revolutionize many aspects of our lives.\\n* **Government support:** Governments worldwide are investing in AI research and development, providing a stable foundation for the industry.\\n* **Maturing technology:** AI technology is constantly evolving and improving, reducing the risk of a sudden decline in interest.\\n\\n**Conclusion:**\\n\\nWhile there is some potential for a bubble in the AI industry, it is unlikely to burst soon. The underlying technology is solid, and there are numerous real-world applications for AI. However, investors should be cautious about overvaluing AI companies and should focus on companies with strong fundamentals and a clear path to profitability.' response_metadata={'prompt_feedback': {'safety_ratings': [{'category': 9, 'probability': 1, 'blocked': False}, {'category': 8, 'probability': 1, 'blocked': False}, {'category': 7, 'probability': 1, 'blocked': False}, {'category': 10, 'probability': 1, 'blocked': False}], 'block_reason': 0}, 'finish_reason': 'STOP', 'safety_ratings': [{'category': 'HARM_CATEGORY_SEXUALLY_EXPLICIT', 'probability': 'NEGLIGIBLE', 'blocked': False}, {'category': 'HARM_CATEGORY_HATE_SPEECH', 'probability': 'NEGLIGIBLE', 'blocked': False}, {'category': 'HARM_CATEGORY_HARASSMENT', 'probability': 'NEGLIGIBLE', 'blocked': False}, {'category': 'HARM_CATEGORY_DANGEROUS_CONTENT', 'probability': 'NEGLIGIBLE', 'blocked': False}]}\n"
     ]
    }
   ],
   "source": [
    "print(\n",
    "    model.invoke(\"Is the new hype about AI creating a bubble that will burst soon?\")\n",
    ")"
   ]
  },
  {
   "cell_type": "markdown",
   "id": "61f957e9-714f-4d85-a745-359d93e2d60c",
   "metadata": {},
   "source": [
    "### Using Chaining functionality provided by Langchain to modularly stack operations"
   ]
  },
  {
   "cell_type": "code",
   "execution_count": 44,
   "id": "495ff972-a494-4171-b6dd-9806356bff1c",
   "metadata": {},
   "outputs": [],
   "source": [
    "from langchain_core.prompts import PromptTemplate\n"
   ]
  },
  {
   "cell_type": "code",
   "execution_count": 45,
   "id": "ff149021-9b5b-403d-94e4-d91ef7502a79",
   "metadata": {},
   "outputs": [
    {
     "name": "stdout",
     "output_type": "stream",
     "text": [
      "The sum of 2 and 2 is 4. This can be calculated by adding the two numbers together, which results in the number 4.\n"
     ]
    }
   ],
   "source": [
    "template = \"\"\"Question: {question}. Answer in 2 sentences\"\"\"\n",
    "prompt = PromptTemplate.from_template(template)\n",
    "\n",
    "chain = prompt | model \n",
    "\n",
    "question = \"How much is 2+2?\"\n",
    "print(chain.invoke({\"question\": question}).content)"
   ]
  },
  {
   "cell_type": "markdown",
   "id": "f3525641-c491-41b7-9ace-b5362e6a44ec",
   "metadata": {},
   "source": [
    "### Streaming the model's response to avoid dumping all the text at once. Makes it intuitive for the user to read."
   ]
  },
  {
   "cell_type": "code",
   "execution_count": 46,
   "id": "4dea98a5-75cd-40d5-8b0c-61ec6878754e",
   "metadata": {},
   "outputs": [
    {
     "name": "stdout",
     "output_type": "stream",
     "text": [
      "In the quaint town of Willow Creek, resided Emily, a solitary soul with a heart filled with unspoken dreams. As she strolled through the cobblestone streets, her gaze lingered on the vibrant flowers that adorned the windowsills, each bloom a silent reminder of the beauty that lay hidden within her."
     ]
    }
   ],
   "source": [
    "import sys\n",
    "\n",
    "for chunk in chain.stream(\"Tell me a short story about a person\"):\n",
    "    sys.stdout.write(chunk.content)\n",
    "    sys.stdout.flush()"
   ]
  },
  {
   "cell_type": "code",
   "execution_count": null,
   "id": "25ed0432-513d-4081-8114-e796242b6197",
   "metadata": {},
   "outputs": [],
   "source": []
  }
 ],
 "metadata": {
  "kernelspec": {
   "display_name": "Python 3 (ipykernel)",
   "language": "python",
   "name": "python3"
  },
  "language_info": {
   "codemirror_mode": {
    "name": "ipython",
    "version": 3
   },
   "file_extension": ".py",
   "mimetype": "text/x-python",
   "name": "python",
   "nbconvert_exporter": "python",
   "pygments_lexer": "ipython3",
   "version": "3.9.19"
  }
 },
 "nbformat": 4,
 "nbformat_minor": 5
}
